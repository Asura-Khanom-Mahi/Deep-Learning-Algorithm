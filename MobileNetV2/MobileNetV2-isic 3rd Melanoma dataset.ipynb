{
  "cells": [
    {
      "cell_type": "code",
      "execution_count": null,
      "metadata": {
        "id": "M16qnPTJM6dy"
      },
      "outputs": [],
      "source": [
        "import tensorflow as tf\n",
        "from tensorflow.keras.preprocessing.image import ImageDataGenerator\n",
        "from tensorflow.keras.applications import MobileNetV2\n",
        "from tensorflow.keras.models import Sequential\n",
        "from tensorflow.keras.layers import Dense, GlobalAveragePooling2D\n",
        "from tensorflow.keras.optimizers import Adam\n",
        "from sklearn.metrics import classification_report\n",
        "import matplotlib.pyplot as plt\n",
        "from sklearn.metrics import confusion_matrix\n",
        "import numpy as np\n",
        "import seaborn as sns"
      ]
    },
    {
      "cell_type": "code",
      "execution_count": null,
      "metadata": {
        "id": "oRS4yd-uNEWI"
      },
      "outputs": [],
      "source": [
        "# Load and preprocess the data\n",
        "data_generator = ImageDataGenerator(\n",
        "    rescale=1./255,\n",
        "    rotation_range=20,\n",
        "    width_shift_range=0.2,\n",
        "    height_shift_range=0.2,\n",
        "    horizontal_flip=True,\n",
        "    validation_split=0.2\n",
        ")\n",
        "\n",
        "data_dir = '/content/drive/MyDrive/meladata'\n",
        "batch_size = 32\n",
        "\n",
        "train_generator = data_generator.flow_from_directory(\n",
        "    data_dir,\n",
        "    target_size=(224, 224),\n",
        "    batch_size=batch_size,\n",
        "    class_mode='categorical',\n",
        "    subset='training'\n",
        ")\n",
        "\n",
        "validation_generator = data_generator.flow_from_directory(\n",
        "    data_dir,\n",
        "    target_size=(224, 224),\n",
        "    batch_size=batch_size,\n",
        "    class_mode='categorical',\n",
        "    subset='validation'\n",
        ")"
      ]
    },
    {
      "cell_type": "code",
      "execution_count": null,
      "metadata": {
        "colab": {
          "base_uri": "https://localhost:8080/"
        },
        "id": "oyfDfwkESEIt",
        "outputId": "1581bb53-4481-4073-c3f1-1dabd0ace1ab"
      },
      "outputs": [],
      "source": [
        "# Load pre-trained MobileNetV2 model\n",
        "base_model = MobileNetV2(weights='imagenet', include_top=False, input_shape=(224, 224, 3))\n",
        "\n",
        "# Freeze the layers of the base model\n",
        "for layer in base_model.layers:\n",
        "    layer.trainable = False\n",
        "\n",
        "# Build your custom classifier\n",
        "model = Sequential([\n",
        "    base_model,\n",
        "    GlobalAveragePooling2D(),\n",
        "    Dense(256, activation='relu'),\n",
        "    Dense(2, activation='softmax')  \n",
        "])\n",
        "\n",
        "# Compile the model\n",
        "model.compile(optimizer=Adam(lr=0.001), loss='categorical_crossentropy', metrics=['accuracy'])\n"
      ]
    },
    {
      "cell_type": "code",
      "execution_count": null,
      "metadata": {
        "colab": {
          "base_uri": "https://localhost:8080/"
        },
        "id": "lMMu6wiRPRqe",
        "outputId": "362bcf6b-e216-4ba0-e370-adb842b84129"
      },
      "outputs": [],
      "source": [
        "\n",
        "# Step 6: Train the model\n",
        "history = model.fit(\n",
        "    train_generator,\n",
        "    epochs=25,  # Adjust the number of epochs as needed\n",
        "    validation_data=validation_generator\n",
        ")\n"
      ]
    },
    {
      "cell_type": "code",
      "execution_count": null,
      "metadata": {
        "id": "VaGSL-gXmRB0"
      },
      "outputs": [],
      "source": [
        "# save model\n",
        "\n",
        "model.save('/content/drive/MyDrive/meladata/mobilenetV2_model.h5')\n"
      ]
    },
    {
      "cell_type": "code",
      "execution_count": null,
      "metadata": {
        "colab": {
          "base_uri": "https://localhost:8080/",
          "height": 927
        },
        "id": "n-jYjupNS1c0",
        "outputId": "2f626c90-b1e0-46ff-ff95-954ba23595f1"
      },
      "outputs": [],
      "source": [
        "# Plot the training and validation accuracy\n",
        "plt.plot(history.history['accuracy'])\n",
        "plt.plot(history.history['val_accuracy'])\n",
        "plt.title('Accuracy')\n",
        "plt.xlabel('Epoch')\n",
        "plt.ylabel('Accuracy')\n",
        "plt.legend(['Train', 'Validation'])\n",
        "plt.show()\n",
        "\n",
        "# Plot the training and validation loss\n",
        "plt.plot(history.history['loss'])\n",
        "plt.plot(history.history['val_loss'])\n",
        "plt.title('Loss')\n",
        "plt.xlabel('Epoch')\n",
        "plt.ylabel('Loss')\n",
        "plt.legend(['Train', 'Validation'])\n",
        "plt.show()\n"
      ]
    },
    {
      "cell_type": "code",
      "execution_count": null,
      "metadata": {
        "colab": {
          "base_uri": "https://localhost:8080/"
        },
        "id": "gD9DQfdISLiP",
        "outputId": "17478b2d-c5c7-4e05-9734-ef973f497b66"
      },
      "outputs": [],
      "source": [
        "\n",
        "\n",
        "#Evaluate the model\n",
        "test_generator = data_generator.flow_from_directory(\n",
        "    data_dir,\n",
        "    target_size=(224, 224),\n",
        "    batch_size=batch_size,\n",
        "    class_mode='categorical',\n",
        "    subset='validation',\n",
        "    shuffle=False  \n",
        ")\n",
        "\n",
        "y_pred = model.predict(test_generator)\n",
        "y_true = test_generator.classes\n",
        "\n",
        "print(classification_report(y_true, np.argmax(y_pred, axis=1)))\n",
        "\n",
        "\n",
        "\n",
        "test_loss, test_acc = model.evaluate(test_generator)\n",
        "print('Test loss:', test_loss)\n",
        "print('Test accuracy:', test_acc)"
      ]
    },
    {
      "cell_type": "code",
      "execution_count": null,
      "metadata": {
        "colab": {
          "base_uri": "https://localhost:8080/",
          "height": 564
        },
        "id": "p-XLxdc6TFJB",
        "outputId": "3c6af232-6946-4fae-bca7-b3db00016f7a"
      },
      "outputs": [],
      "source": [
        "\n",
        "# Compute confusion matrix\n",
        "cm = confusion_matrix(y_true, np.argmax(y_pred, axis=1))\n",
        "\n",
        "# Plot confusion matrix\n",
        "plt.figure(figsize=(6, 6))\n",
        "sns.heatmap(cm, annot=True, fmt='d')\n",
        "plt.xlabel('Predicted label')\n",
        "plt.ylabel('True label')\n",
        "plt.title('Confusion matrix')\n",
        "plt.show()\n"
      ]
    },
    {
      "cell_type": "code",
      "execution_count": null,
      "metadata": {
        "colab": {
          "base_uri": "https://localhost:8080/",
          "height": 472
        },
        "id": "p-EyrOU2TFoH",
        "outputId": "f50f6aa9-65f5-4500-a2ae-0e1e14a0194f"
      },
      "outputs": [],
      "source": [
        "\n",
        "#plot AUC\n",
        "fpr, tpr, thresholds = sklearn.metrics.roc_curve(y_true, y_pred[:, 1])\n",
        "roc_auc = sklearn.metrics.auc(fpr, tpr)\n",
        "\n",
        "plt.plot(fpr, tpr, color='darkorange', lw=2, label='ROC curve (area = %0.2f)' % roc_auc)\n",
        "plt.plot([0, 1], [0, 1], color='navy', lw=2, linestyle='--')\n",
        "plt.xlim([0.0, 1.0])\n",
        "plt.ylim([0.0, 1.05])\n",
        "plt.xlabel('False Positive Rate')\n",
        "plt.ylabel('True Positive Rate')\n",
        "plt.title('Receiver Operating Characteristic (ROC) Curve')\n",
        "plt.legend(loc=\"lower right\")\n",
        "plt.show()\n"
      ]
    },
    {
      "cell_type": "code",
      "execution_count": null,
      "metadata": {
        "colab": {
          "base_uri": "https://localhost:8080/"
        },
        "id": "VVEYkgWcdk2j",
        "outputId": "f155e3f7-3ef4-4971-e65b-1c4fe3a64839"
      },
      "outputs": [],
      "source": [
        "!tensorflowjs_converter --input_format=keras \\\n",
        "  '/content/drive/MyDrive/meladata/mobilenetV2_model.h5' \\\n",
        "  '/content/drive/MyDrive/meladata/tfjs_model'\n"
      ]
    },
    {
      "cell_type": "code",
      "execution_count": null,
      "metadata": {
        "colab": {
          "base_uri": "https://localhost:8080/"
        },
        "id": "Bts8Md0aeeCe",
        "outputId": "0a82a0cb-dc3c-4917-c0cf-e07d33b4e496"
      },
      "outputs": [],
      "source": [
        "!pip install tensorflow-gpu\n",
        "!pip install tensorflowjs\n"
      ]
    },
    {
      "cell_type": "code",
      "execution_count": null,
      "metadata": {
        "colab": {
          "base_uri": "https://localhost:8080/"
        },
        "id": "82Mfbs3Md-85",
        "outputId": "a7399fe4-18fa-401b-ba0f-21cb6e6a9533"
      },
      "outputs": [],
      "source": [
        "!pip install tensorflow\n",
        "!pip install tensorflowjs\n"
      ]
    }
  ],
  "metadata": {
    "colab": {
      "provenance": []
    },
    "kernelspec": {
      "display_name": "Python 3",
      "name": "python3"
    },
    "language_info": {
      "name": "python"
    }
  },
  "nbformat": 4,
  "nbformat_minor": 0
}
